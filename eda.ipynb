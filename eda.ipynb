{
 "cells": [
  {
   "cell_type": "markdown",
   "metadata": {},
   "source": [
    "# 1. Import the necessary libraries"
   ]
  },
  {
   "cell_type": "code",
   "execution_count": 1,
   "metadata": {},
   "outputs": [],
   "source": [
    "import pandas as pd\n",
    "import numpy as np\n",
    "import seaborn as sns\n",
    "import matplotlib.pyplot as plt"
   ]
  },
  {
   "cell_type": "markdown",
   "metadata": {},
   "source": [
    "# 2. Read the data as a data frame"
   ]
  },
  {
   "cell_type": "code",
   "execution_count": 2,
   "metadata": {},
   "outputs": [
    {
     "data": {
      "text/html": [
       "<div>\n",
       "<style scoped>\n",
       "    .dataframe tbody tr th:only-of-type {\n",
       "        vertical-align: middle;\n",
       "    }\n",
       "\n",
       "    .dataframe tbody tr th {\n",
       "        vertical-align: top;\n",
       "    }\n",
       "\n",
       "    .dataframe thead th {\n",
       "        text-align: right;\n",
       "    }\n",
       "</style>\n",
       "<table border=\"1\" class=\"dataframe\">\n",
       "  <thead>\n",
       "    <tr style=\"text-align: right;\">\n",
       "      <th></th>\n",
       "      <th>cement</th>\n",
       "      <th>slag</th>\n",
       "      <th>ash</th>\n",
       "      <th>water</th>\n",
       "      <th>superplastic</th>\n",
       "      <th>coarseagg</th>\n",
       "      <th>fineagg</th>\n",
       "      <th>age</th>\n",
       "      <th>strength</th>\n",
       "    </tr>\n",
       "  </thead>\n",
       "  <tbody>\n",
       "    <tr>\n",
       "      <th>0</th>\n",
       "      <td>141.3</td>\n",
       "      <td>212.0</td>\n",
       "      <td>0.0</td>\n",
       "      <td>203.5</td>\n",
       "      <td>0.0</td>\n",
       "      <td>971.8</td>\n",
       "      <td>748.5</td>\n",
       "      <td>28</td>\n",
       "      <td>29.89</td>\n",
       "    </tr>\n",
       "    <tr>\n",
       "      <th>1</th>\n",
       "      <td>168.9</td>\n",
       "      <td>42.2</td>\n",
       "      <td>124.3</td>\n",
       "      <td>158.3</td>\n",
       "      <td>10.8</td>\n",
       "      <td>1080.8</td>\n",
       "      <td>796.2</td>\n",
       "      <td>14</td>\n",
       "      <td>23.51</td>\n",
       "    </tr>\n",
       "    <tr>\n",
       "      <th>2</th>\n",
       "      <td>250.0</td>\n",
       "      <td>0.0</td>\n",
       "      <td>95.7</td>\n",
       "      <td>187.4</td>\n",
       "      <td>5.5</td>\n",
       "      <td>956.9</td>\n",
       "      <td>861.2</td>\n",
       "      <td>28</td>\n",
       "      <td>29.22</td>\n",
       "    </tr>\n",
       "    <tr>\n",
       "      <th>3</th>\n",
       "      <td>266.0</td>\n",
       "      <td>114.0</td>\n",
       "      <td>0.0</td>\n",
       "      <td>228.0</td>\n",
       "      <td>0.0</td>\n",
       "      <td>932.0</td>\n",
       "      <td>670.0</td>\n",
       "      <td>28</td>\n",
       "      <td>45.85</td>\n",
       "    </tr>\n",
       "    <tr>\n",
       "      <th>4</th>\n",
       "      <td>154.8</td>\n",
       "      <td>183.4</td>\n",
       "      <td>0.0</td>\n",
       "      <td>193.3</td>\n",
       "      <td>9.1</td>\n",
       "      <td>1047.4</td>\n",
       "      <td>696.7</td>\n",
       "      <td>28</td>\n",
       "      <td>18.29</td>\n",
       "    </tr>\n",
       "  </tbody>\n",
       "</table>\n",
       "</div>"
      ],
      "text/plain": [
       "   cement   slag    ash  water  superplastic  coarseagg  fineagg  age  \\\n",
       "0   141.3  212.0    0.0  203.5           0.0      971.8    748.5   28   \n",
       "1   168.9   42.2  124.3  158.3          10.8     1080.8    796.2   14   \n",
       "2   250.0    0.0   95.7  187.4           5.5      956.9    861.2   28   \n",
       "3   266.0  114.0    0.0  228.0           0.0      932.0    670.0   28   \n",
       "4   154.8  183.4    0.0  193.3           9.1     1047.4    696.7   28   \n",
       "\n",
       "   strength  \n",
       "0     29.89  \n",
       "1     23.51  \n",
       "2     29.22  \n",
       "3     45.85  \n",
       "4     18.29  "
      ]
     },
     "execution_count": 2,
     "metadata": {},
     "output_type": "execute_result"
    }
   ],
   "source": [
    "data_orig = pd.read_csv('concrete.csv')\n",
    "data_orig.head()"
   ]
  },
  {
   "cell_type": "markdown",
   "metadata": {},
   "source": [
    "## 2.1 Print the descriptive statistics of each & every column using describe() function"
   ]
  },
  {
   "cell_type": "code",
   "execution_count": 3,
   "metadata": {},
   "outputs": [
    {
     "data": {
      "text/html": [
       "<div>\n",
       "<style scoped>\n",
       "    .dataframe tbody tr th:only-of-type {\n",
       "        vertical-align: middle;\n",
       "    }\n",
       "\n",
       "    .dataframe tbody tr th {\n",
       "        vertical-align: top;\n",
       "    }\n",
       "\n",
       "    .dataframe thead th {\n",
       "        text-align: right;\n",
       "    }\n",
       "</style>\n",
       "<table border=\"1\" class=\"dataframe\">\n",
       "  <thead>\n",
       "    <tr style=\"text-align: right;\">\n",
       "      <th></th>\n",
       "      <th>count</th>\n",
       "      <th>mean</th>\n",
       "      <th>std</th>\n",
       "      <th>min</th>\n",
       "      <th>25%</th>\n",
       "      <th>50%</th>\n",
       "      <th>75%</th>\n",
       "      <th>max</th>\n",
       "    </tr>\n",
       "  </thead>\n",
       "  <tbody>\n",
       "    <tr>\n",
       "      <th>cement</th>\n",
       "      <td>1030.0</td>\n",
       "      <td>281.167864</td>\n",
       "      <td>104.506364</td>\n",
       "      <td>102.00</td>\n",
       "      <td>192.375</td>\n",
       "      <td>272.900</td>\n",
       "      <td>350.000</td>\n",
       "      <td>540.0</td>\n",
       "    </tr>\n",
       "    <tr>\n",
       "      <th>slag</th>\n",
       "      <td>1030.0</td>\n",
       "      <td>73.895825</td>\n",
       "      <td>86.279342</td>\n",
       "      <td>0.00</td>\n",
       "      <td>0.000</td>\n",
       "      <td>22.000</td>\n",
       "      <td>142.950</td>\n",
       "      <td>359.4</td>\n",
       "    </tr>\n",
       "    <tr>\n",
       "      <th>ash</th>\n",
       "      <td>1030.0</td>\n",
       "      <td>54.188350</td>\n",
       "      <td>63.997004</td>\n",
       "      <td>0.00</td>\n",
       "      <td>0.000</td>\n",
       "      <td>0.000</td>\n",
       "      <td>118.300</td>\n",
       "      <td>200.1</td>\n",
       "    </tr>\n",
       "    <tr>\n",
       "      <th>water</th>\n",
       "      <td>1030.0</td>\n",
       "      <td>181.567282</td>\n",
       "      <td>21.354219</td>\n",
       "      <td>121.80</td>\n",
       "      <td>164.900</td>\n",
       "      <td>185.000</td>\n",
       "      <td>192.000</td>\n",
       "      <td>247.0</td>\n",
       "    </tr>\n",
       "    <tr>\n",
       "      <th>superplastic</th>\n",
       "      <td>1030.0</td>\n",
       "      <td>6.204660</td>\n",
       "      <td>5.973841</td>\n",
       "      <td>0.00</td>\n",
       "      <td>0.000</td>\n",
       "      <td>6.400</td>\n",
       "      <td>10.200</td>\n",
       "      <td>32.2</td>\n",
       "    </tr>\n",
       "    <tr>\n",
       "      <th>coarseagg</th>\n",
       "      <td>1030.0</td>\n",
       "      <td>972.918932</td>\n",
       "      <td>77.753954</td>\n",
       "      <td>801.00</td>\n",
       "      <td>932.000</td>\n",
       "      <td>968.000</td>\n",
       "      <td>1029.400</td>\n",
       "      <td>1145.0</td>\n",
       "    </tr>\n",
       "    <tr>\n",
       "      <th>fineagg</th>\n",
       "      <td>1030.0</td>\n",
       "      <td>773.580485</td>\n",
       "      <td>80.175980</td>\n",
       "      <td>594.00</td>\n",
       "      <td>730.950</td>\n",
       "      <td>779.500</td>\n",
       "      <td>824.000</td>\n",
       "      <td>992.6</td>\n",
       "    </tr>\n",
       "    <tr>\n",
       "      <th>age</th>\n",
       "      <td>1030.0</td>\n",
       "      <td>45.662136</td>\n",
       "      <td>63.169912</td>\n",
       "      <td>1.00</td>\n",
       "      <td>7.000</td>\n",
       "      <td>28.000</td>\n",
       "      <td>56.000</td>\n",
       "      <td>365.0</td>\n",
       "    </tr>\n",
       "    <tr>\n",
       "      <th>strength</th>\n",
       "      <td>1030.0</td>\n",
       "      <td>35.817961</td>\n",
       "      <td>16.705742</td>\n",
       "      <td>2.33</td>\n",
       "      <td>23.710</td>\n",
       "      <td>34.445</td>\n",
       "      <td>46.135</td>\n",
       "      <td>82.6</td>\n",
       "    </tr>\n",
       "  </tbody>\n",
       "</table>\n",
       "</div>"
      ],
      "text/plain": [
       "               count        mean         std     min      25%      50%  \\\n",
       "cement        1030.0  281.167864  104.506364  102.00  192.375  272.900   \n",
       "slag          1030.0   73.895825   86.279342    0.00    0.000   22.000   \n",
       "ash           1030.0   54.188350   63.997004    0.00    0.000    0.000   \n",
       "water         1030.0  181.567282   21.354219  121.80  164.900  185.000   \n",
       "superplastic  1030.0    6.204660    5.973841    0.00    0.000    6.400   \n",
       "coarseagg     1030.0  972.918932   77.753954  801.00  932.000  968.000   \n",
       "fineagg       1030.0  773.580485   80.175980  594.00  730.950  779.500   \n",
       "age           1030.0   45.662136   63.169912    1.00    7.000   28.000   \n",
       "strength      1030.0   35.817961   16.705742    2.33   23.710   34.445   \n",
       "\n",
       "                   75%     max  \n",
       "cement         350.000   540.0  \n",
       "slag           142.950   359.4  \n",
       "ash            118.300   200.1  \n",
       "water          192.000   247.0  \n",
       "superplastic    10.200    32.2  \n",
       "coarseagg     1029.400  1145.0  \n",
       "fineagg        824.000   992.6  \n",
       "age             56.000   365.0  \n",
       "strength        46.135    82.6  "
      ]
     },
     "execution_count": 3,
     "metadata": {},
     "output_type": "execute_result"
    }
   ],
   "source": [
    "data_orig.describe().transpose()"
   ]
  },
  {
   "cell_type": "markdown",
   "metadata": {},
   "source": [
    "# 3. EDA"
   ]
  },
  {
   "cell_type": "markdown",
   "metadata": {},
   "source": [
    "## 3.1 Shape of the data"
   ]
  },
  {
   "cell_type": "code",
   "execution_count": 4,
   "metadata": {},
   "outputs": [
    {
     "name": "stdout",
     "output_type": "stream",
     "text": [
      "(1030, 9)\n"
     ]
    }
   ],
   "source": [
    "print (data_orig.shape)"
   ]
  },
  {
   "cell_type": "markdown",
   "metadata": {},
   "source": [
    "## 3.2 Data type of each attribute"
   ]
  },
  {
   "cell_type": "code",
   "execution_count": 5,
   "metadata": {},
   "outputs": [
    {
     "data": {
      "text/plain": [
       "cement          float64\n",
       "slag            float64\n",
       "ash             float64\n",
       "water           float64\n",
       "superplastic    float64\n",
       "coarseagg       float64\n",
       "fineagg         float64\n",
       "age               int64\n",
       "strength        float64\n",
       "dtype: object"
      ]
     },
     "execution_count": 5,
     "metadata": {},
     "output_type": "execute_result"
    }
   ],
   "source": [
    "data_orig.dtypes"
   ]
  },
  {
   "cell_type": "markdown",
   "metadata": {},
   "source": [
    "## 3.3 Checking the presence of missing values\n",
    "\n",
    "    We see that there no missing values in the dataset. However we would need to do closer inspection to see if there are dummy valuesin the dataset."
   ]
  },
  {
   "cell_type": "code",
   "execution_count": 6,
   "metadata": {},
   "outputs": [
    {
     "data": {
      "text/plain": [
       "cement          0\n",
       "slag            0\n",
       "ash             0\n",
       "water           0\n",
       "superplastic    0\n",
       "coarseagg       0\n",
       "fineagg         0\n",
       "age             0\n",
       "strength        0\n",
       "dtype: int64"
      ]
     },
     "execution_count": 6,
     "metadata": {},
     "output_type": "execute_result"
    }
   ],
   "source": [
    "# Check for missing value\n",
    "data_orig.isna().sum()"
   ]
  },
  {
   "cell_type": "markdown",
   "metadata": {},
   "source": [
    "## 3.4 Analysing Numeric Attributes"
   ]
  },
  {
   "cell_type": "code",
   "execution_count": 12,
   "metadata": {},
   "outputs": [
    {
     "data": {
      "image/png": "[encoded data removed]",
      "text/plain": [
       "<Figure size 1440x432 with 12 Axes>"
      ]
     },
     "metadata": {
      "needs_background": "light"
     },
     "output_type": "display_data"
    }
   ],
   "source": [
    "data_orig.hist(bins=10, figsize=(20, 6), layout=(3, 4));"
   ]
  },
  {
   "cell_type": "markdown",
   "metadata": {},
   "source": [
    "### 3.4.1 - Check Standard Deviation of all numeric attributes\n",
    "\n",
    "    All attributes have some standard deviation and hence they would not be dropped - for now"
   ]
  },
  {
   "cell_type": "code",
   "execution_count": 13,
   "metadata": {},
   "outputs": [
    {
     "data": {
      "text/plain": [
       "cement          104.506364\n",
       "slag             86.279342\n",
       "ash              63.997004\n",
       "water            21.354219\n",
       "superplastic      5.973841\n",
       "coarseagg        77.753954\n",
       "fineagg          80.175980\n",
       "age              63.169912\n",
       "strength         16.705742\n",
       "dtype: float64"
      ]
     },
     "execution_count": 13,
     "metadata": {},
     "output_type": "execute_result"
    }
   ],
   "source": [
    "data_orig.std()"
   ]
  },
  {
   "cell_type": "markdown",
   "metadata": {},
   "source": [
    "### 3.4.2 Five point summary"
   ]
  },
  {
   "cell_type": "code",
   "execution_count": 14,
   "metadata": {},
   "outputs": [],
   "source": [
    "def print_five_point_summary(feature, feature_name, do_print=True):\n",
    "    median = np.median(feature)\n",
    "    \n",
    "    sorted_feature_data = sorted(feature)\n",
    "    q1, q3= np.percentile(sorted_feature_data,[25,75])\n",
    "\n",
    "    min_value = np.min(sorted_feature_data)\n",
    "    max_value = np.max(sorted_feature_data)\n",
    "\n",
    "    if do_print:\n",
    "        print ('\\nPrinting 5 point summary for %s'%(feature_name))\n",
    "        print ('-----------------------------------')\n",
    "        print ('\\nMax value of %s is %d'%(feature_name, max_value))\n",
    "        print ('Min value of %s is %d'%(feature_name, min_value))\n",
    "        print ('Median value of %s is %d'%(feature_name, median))\n",
    "        print ('1st Quartile value of %s is %d'%(feature_name, q1))\n",
    "        print ('3rd Quartile value of %s is %d'%(feature_name, q3))\n",
    "\n",
    "    five_point_summary = {'median':median,\n",
    "                         'q1':q1,\n",
    "                         'q3':q3,\n",
    "                         'minvalue':min_value,\n",
    "                         'max_value':max_value}\n",
    "    return five_point_summary"
   ]
  },
  {
   "cell_type": "code",
   "execution_count": 15,
   "metadata": {},
   "outputs": [
    {
     "name": "stdout",
     "output_type": "stream",
     "text": [
      "\n",
      "Printing 5 point summary for cement\n",
      "-----------------------------------\n",
      "\n",
      "Max value of cement is 540\n",
      "Min value of cement is 102\n",
      "Median value of cement is 272\n",
      "1st Quartile value of cement is 192\n",
      "3rd Quartile value of cement is 350\n",
      "\n",
      "Printing 5 point summary for slag\n",
      "-----------------------------------\n",
      "\n",
      "Max value of slag is 359\n",
      "Min value of slag is 0\n",
      "Median value of slag is 22\n",
      "1st Quartile value of slag is 0\n",
      "3rd Quartile value of slag is 142\n",
      "\n",
      "Printing 5 point summary for ash\n",
      "-----------------------------------\n",
      "\n",
      "Max value of ash is 200\n",
      "Min value of ash is 0\n",
      "Median value of ash is 0\n",
      "1st Quartile value of ash is 0\n",
      "3rd Quartile value of ash is 118\n",
      "\n",
      "Printing 5 point summary for water\n",
      "-----------------------------------\n",
      "\n",
      "Max value of water is 247\n",
      "Min value of water is 121\n",
      "Median value of water is 185\n",
      "1st Quartile value of water is 164\n",
      "3rd Quartile value of water is 192\n",
      "\n",
      "Printing 5 point summary for superplastic\n",
      "-----------------------------------\n",
      "\n",
      "Max value of superplastic is 32\n",
      "Min value of superplastic is 0\n",
      "Median value of superplastic is 6\n",
      "1st Quartile value of superplastic is 0\n",
      "3rd Quartile value of superplastic is 10\n",
      "\n",
      "Printing 5 point summary for coarseagg\n",
      "-----------------------------------\n",
      "\n",
      "Max value of coarseagg is 1145\n",
      "Min value of coarseagg is 801\n",
      "Median value of coarseagg is 968\n",
      "1st Quartile value of coarseagg is 932\n",
      "3rd Quartile value of coarseagg is 1029\n",
      "\n",
      "Printing 5 point summary for fineagg\n",
      "-----------------------------------\n",
      "\n",
      "Max value of fineagg is 992\n",
      "Min value of fineagg is 594\n",
      "Median value of fineagg is 779\n",
      "1st Quartile value of fineagg is 730\n",
      "3rd Quartile value of fineagg is 824\n",
      "\n",
      "Printing 5 point summary for age\n",
      "-----------------------------------\n",
      "\n",
      "Max value of age is 365\n",
      "Min value of age is 1\n",
      "Median value of age is 28\n",
      "1st Quartile value of age is 7\n",
      "3rd Quartile value of age is 56\n",
      "\n",
      "Printing 5 point summary for strength\n",
      "-----------------------------------\n",
      "\n",
      "Max value of strength is 82\n",
      "Min value of strength is 2\n",
      "Median value of strength is 34\n",
      "1st Quartile value of strength is 23\n",
      "3rd Quartile value of strength is 46\n"
     ]
    }
   ],
   "source": [
    "for col in data_orig.columns:\n",
    "    print_five_point_summary(data_orig[col], col)"
   ]
  },
  {
   "cell_type": "markdown",
   "metadata": {},
   "source": [
    "### Step 10 - Outlier Detection\n",
    "\n",
    "    We will use BoxPlot to check if there are any outliers in the features which have been provided.\n",
    "    \n",
    "    We will identify such features and in next step we will remove the ourlier values."
   ]
  },
  {
   "cell_type": "code",
   "execution_count": 17,
   "metadata": {},
   "outputs": [
    {
     "data": {
      "image/png": "[encoded data removed]",
      "text/plain": [
       "<Figure size 432x288 with 1 Axes>"
      ]
     },
     "metadata": {
      "needs_background": "light"
     },
     "output_type": "display_data"
    },
    {
     "data": {
      "image/png": "[encoded data removed]",
      "text/plain": [
       "<Figure size 432x288 with 1 Axes>"
      ]
     },
     "metadata": {
      "needs_background": "light"
     },
     "output_type": "display_data"
    },
    {
     "data": {
      "image/png": "[encoded data removed]",
      "text/plain": [
       "<Figure size 432x288 with 1 Axes>"
      ]
     },
     "metadata": {
      "needs_background": "light"
     },
     "output_type": "display_data"
    },
    {
     "data": {
      "image/png": "[encoded data removed]",
      "text/plain": [
       "<Figure size 432x288 with 1 Axes>"
      ]
     },
     "metadata": {
      "needs_background": "light"
     },
     "output_type": "display_data"
    },
    {
     "data": {
      "image/png": "[encoded data removed]",
      "text/plain": [
       "<Figure size 432x288 with 1 Axes>"
      ]
     },
     "metadata": {
      "needs_background": "light"
     },
     "output_type": "display_data"
    },
    {
     "data": {
      "image/png": "[encoded data removed]",
      "text/plain": [
       "<Figure size 432x288 with 1 Axes>"
      ]
     },
     "metadata": {
      "needs_background": "light"
     },
     "output_type": "display_data"
    },
    {
     "data": {
      "image/png": "[encoded data removed]",
      "text/plain": [
       "<Figure size 432x288 with 1 Axes>"
      ]
     },
     "metadata": {
      "needs_background": "light"
     },
     "output_type": "display_data"
    },
    {
     "data": {
      "image/png": "[encoded data removed]",
      "text/plain": [
       "<Figure size 432x288 with 1 Axes>"
      ]
     },
     "metadata": {
      "needs_background": "light"
     },
     "output_type": "display_data"
    },
    {
     "data": {
      "image/png": "[encoded data removed]",
      "text/plain": [
       "<Figure size 432x288 with 1 Axes>"
      ]
     },
     "metadata": {
      "needs_background": "light"
     },
     "output_type": "display_data"
    }
   ],
   "source": [
    "for col in data_orig.columns:\n",
    "    if (data_orig[col].dtype != 'object'):\n",
    "        sns.boxplot(data_orig[col], orient='v')\n",
    "        plt.show()"
   ]
  },
  {
   "cell_type": "markdown",
   "metadata": {},
   "source": [
    "### Step 12 - Remove outlier values using zscore"
   ]
  },
  {
   "cell_type": "code",
   "execution_count": 18,
   "metadata": {},
   "outputs": [],
   "source": [
    "from scipy.stats import zscore\n",
    "\n",
    "def remove_outliers (df, feature_name):\n",
    "    \n",
    "    rows_before = df.shape[0]\n",
    "    \n",
    "    feature_name_zscore = feature_name+'_zscore'\n",
    "    \n",
    "    df[feature_name_zscore] = zscore(df[feature_name])\n",
    "    condition = (df[feature_name_zscore]>3) | (df[feature_name_zscore]<-3)\n",
    "    df = df.drop(df[condition].index, axis=0, inplace=False)\n",
    "    df = df.drop([feature_name_zscore], axis=1)\n",
    "    \n",
    "    rows_after = df.shape[0]\n",
    "    \n",
    "    print ('Number of rows which had outlier value for %s are %d'%(feature_name, (rows_before-rows_after)))\n",
    "    #sns.boxplot(df[feature_name], orient='v')\n",
    "    \n",
    "    return df"
   ]
  },
  {
   "cell_type": "code",
   "execution_count": 19,
   "metadata": {},
   "outputs": [
    {
     "data": {
      "text/plain": [
       "Index(['cement', 'slag', 'ash', 'water', 'superplastic', 'coarseagg',\n",
       "       'fineagg', 'age', 'strength'],\n",
       "      dtype='object')"
      ]
     },
     "execution_count": 19,
     "metadata": {},
     "output_type": "execute_result"
    }
   ],
   "source": [
    "data_orig.columns"
   ]
  },
  {
   "cell_type": "code",
   "execution_count": 20,
   "metadata": {},
   "outputs": [
    {
     "name": "stdout",
     "output_type": "stream",
     "text": [
      "Number of rows which had outlier value for cement are 0\n",
      "Number of rows which had outlier value for slag are 4\n",
      "Number of rows which had outlier value for ash are 0\n",
      "Number of rows which had outlier value for water are 2\n",
      "Number of rows which had outlier value for superplastic are 10\n",
      "Number of rows which had outlier value for coarseagg are 0\n",
      "Number of rows which had outlier value for fineagg are 0\n",
      "Number of rows which had outlier value for age are 33\n"
     ]
    }
   ],
   "source": [
    "data_orig = remove_outliers(data_orig, 'cement')\n",
    "data_orig = remove_outliers(data_orig, 'slag')\n",
    "data_orig = remove_outliers(data_orig, 'ash')\n",
    "data_orig = remove_outliers(data_orig, 'water')\n",
    "data_orig = remove_outliers(data_orig, 'superplastic')\n",
    "data_orig = remove_outliers(data_orig, 'coarseagg')\n",
    "data_orig = remove_outliers(data_orig, 'fineagg')\n",
    "data_orig = remove_outliers(data_orig, 'age')"
   ]
  },
  {
   "cell_type": "code",
   "execution_count": 22,
   "metadata": {},
   "outputs": [
    {
     "data": {
      "image/png": "[encoded data removed]",
      "text/plain": [
       "<Figure size 432x288 with 1 Axes>"
      ]
     },
     "metadata": {
      "needs_background": "light"
     },
     "output_type": "display_data"
    },
    {
     "data": {
      "image/png": "[encoded data removed]",
      "text/plain": [
       "<Figure size 432x288 with 1 Axes>"
      ]
     },
     "metadata": {
      "needs_background": "light"
     },
     "output_type": "display_data"
    },
    {
     "data": {
      "image/png": "[encoded data removed]",
      "text/plain": [
       "<Figure size 432x288 with 1 Axes>"
      ]
     },
     "metadata": {
      "needs_background": "light"
     },
     "output_type": "display_data"
    },
    {
     "data": {
      "image/png": "[encoded data removed]",
      "text/plain": [
       "<Figure size 432x288 with 1 Axes>"
      ]
     },
     "metadata": {
      "needs_background": "light"
     },
     "output_type": "display_data"
    },
    {
     "data": {
      "image/png": "[encoded data removed]",
      "text/plain": [
       "<Figure size 432x288 with 1 Axes>"
      ]
     },
     "metadata": {
      "needs_background": "light"
     },
     "output_type": "display_data"
    },
    {
     "data": {
      "image/png": "[encoded data removed]",
      "text/plain": [
       "<Figure size 432x288 with 1 Axes>"
      ]
     },
     "metadata": {
      "needs_background": "light"
     },
     "output_type": "display_data"
    },
    {
     "data": {
      "image/png": "[encoded data removed]",
      "text/plain": [
       "<Figure size 432x288 with 1 Axes>"
      ]
     },
     "metadata": {
      "needs_background": "light"
     },
     "output_type": "display_data"
    },
    {
     "data": {
      "image/png": "[encoded data removed]",
      "text/plain": [
       "<Figure size 432x288 with 1 Axes>"
      ]
     },
     "metadata": {
      "needs_background": "light"
     },
     "output_type": "display_data"
    },
    {
     "data": {
      "image/png": "[encoded data removed]",
      "text/plain": [
       "<Figure size 432x288 with 1 Axes>"
      ]
     },
     "metadata": {
      "needs_background": "light"
     },
     "output_type": "display_data"
    }
   ],
   "source": [
    "for col in data_orig.columns:\n",
    "    if (data_orig[col].dtype != 'object'):\n",
    "        sns.boxplot(data_orig[col], orient='v')\n",
    "        plt.show()"
   ]
  },
  {
   "cell_type": "markdown",
   "metadata": {},
   "source": [
    "### Step 13 - Relationship between Different Features\n",
    "\n",
    "    We will plot a pairplot of all the features in the dataset. This plot gives visual clues to identify the dataset suffers from multicollinearity. This can lead to skewed or misleading results. Luckily, decision trees and boosted trees algorithms are immune to multicollinearity by nature. When they decide to split, the tree will choose only one of the perfectly correlated features. However, other algorithms like Logistic Regression or Linear Regression are not immune to that problem and you should fix it before training the model\n",
    "    \n",
    "    In our dataset we will see that there many features which are highly correlated to each other, i.e. positive or negative correlation"
   ]
  },
  {
   "cell_type": "code",
   "execution_count": null,
   "metadata": {},
   "outputs": [
    {
     "name": "stderr",
     "output_type": "stream",
     "text": [
      "C:\\MachineLearning\\anaconda\\lib\\site-packages\\seaborn\\axisgrid.py:2065: UserWarning: The `size` parameter has been renamed to `height`; pleaes update your code.\n",
      "  warnings.warn(msg, UserWarning)\n",
      "C:\\MachineLearning\\anaconda\\lib\\site-packages\\numpy\\core\\_methods.py:140: RuntimeWarning: Degrees of freedom <= 0 for slice\n",
      "  keepdims=keepdims)\n",
      "C:\\MachineLearning\\anaconda\\lib\\site-packages\\numpy\\core\\_methods.py:132: RuntimeWarning: invalid value encountered in double_scalars\n",
      "  ret = ret.dtype.type(ret / rcount)\n",
      "C:\\MachineLearning\\anaconda\\lib\\site-packages\\statsmodels\\nonparametric\\kde.py:488: RuntimeWarning: invalid value encountered in true_divide\n",
      "  binned = fast_linbin(X, a, b, gridsize) / (delta * nobs)\n",
      "C:\\MachineLearning\\anaconda\\lib\\site-packages\\statsmodels\\nonparametric\\kdetools.py:34: RuntimeWarning: invalid value encountered in double_scalars\n",
      "  FAC1 = 2*(np.pi*bw/RANGE)**2\n"
     ]
    }
   ],
   "source": [
    "sns.pairplot(data_orig, hue='strength',size=4)\n",
    "plt.suptitle('Pair Plot of concrete data - highlighted by strength', size = 46);"
   ]
  },
  {
   "cell_type": "markdown",
   "metadata": {},
   "source": [
    "#### Example of Highly Positive Correlation in features"
   ]
  },
  {
   "cell_type": "code",
   "execution_count": null,
   "metadata": {},
   "outputs": [],
   "source": [
    "sns.lmplot(x='scaled_variance.1',y='compactness',hue='class', data=data, fit_reg=False)\n",
    "plt.xlabel('scaled_variance.1')\n",
    "plt.ylabel('compactness')\n",
    "plt.title('Relationship b/w scaled variance & compactness')"
   ]
  },
  {
   "cell_type": "markdown",
   "metadata": {},
   "source": [
    "#### Example of Highly Negative Correlation in features"
   ]
  },
  {
   "cell_type": "code",
   "execution_count": null,
   "metadata": {},
   "outputs": [],
   "source": [
    "sns.lmplot(x='distance_circularity',y='elongatedness',hue='class', data=data, fit_reg=False)\n",
    "plt.xlabel('distance_circularity')\n",
    "plt.ylabel('elongatedness')\n",
    "plt.title('Relationship b/w distance_circularity & elongatedness')"
   ]
  },
  {
   "cell_type": "markdown",
   "metadata": {},
   "source": [
    "### Step 14 - Finding Correlation Matrix with Heatmap\n",
    "\n",
    "    - One of the other ways we can find correlation for this dataset is to plot a HeatMap which would show corerelation between each feature."
   ]
  },
  {
   "cell_type": "code",
   "execution_count": null,
   "metadata": {},
   "outputs": [],
   "source": [
    "corelation_matrix = data_orig.corr()\n",
    "top_corelation_features = corelation_matrix.index\n",
    "plt.figure(figsize=(20,20))\n",
    "g = sns.heatmap(data_orig[top_corelation_features].corr(), annot=True, cmap='RdYlGn')"
   ]
  },
  {
   "cell_type": "markdown",
   "metadata": {},
   "source": [
    "### Step 15 -  Scaling Data"
   ]
  },
  {
   "cell_type": "code",
   "execution_count": null,
   "metadata": {},
   "outputs": [],
   "source": [
    "# Get all column names\n",
    "data_orig.columns"
   ]
  },
  {
   "cell_type": "code",
   "execution_count": null,
   "metadata": {},
   "outputs": [],
   "source": [
    "from sklearn.preprocessing import StandardScaler\n",
    "scaler = StandardScaler()\n",
    "\n",
    "cols_to_scale = ['compactness', 'circularity', 'distance_circularity', 'radius_ratio',\n",
    "       'pr.axis_aspect_ratio', 'max.length_aspect_ratio', 'scatter_ratio',\n",
    "       'elongatedness', 'pr.axis_rectangularity', 'max.length_rectangularity',\n",
    "       'scaled_variance', 'scaled_variance.1', 'scaled_radius_of_gyration',\n",
    "       'scaled_radius_of_gyration.1', 'skewness_about', 'skewness_about.1',\n",
    "       'skewness_about.2', 'hollows_ratio']\n",
    "\n",
    "scaled_data = scaler.fit_transform(data[cols_to_scale])\n",
    "scaled_data = pd.DataFrame(data=scaled_data, columns=cols_to_scale)\n",
    "\n",
    "scaled_data.head(5)"
   ]
  }
 ],
 "metadata": {
  "kernelspec": {
   "display_name": "Python 3",
   "language": "python",
   "name": "python3"
  },
  "language_info": {
   "codemirror_mode": {
    "name": "ipython",
    "version": 3
   },
   "file_extension": ".py",
   "mimetype": "text/x-python",
   "name": "python",
   "nbconvert_exporter": "python",
   "pygments_lexer": "ipython3",
   "version": "3.7.3"
  }
 },
 "nbformat": 4,
 "nbformat_minor": 2
}
