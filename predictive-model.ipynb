{
 "cells": [
  {
   "cell_type": "markdown",
   "metadata": {},
   "source": [
    "# 1. Import the necessary libraries"
   ]
  },
  {
   "cell_type": "code",
   "execution_count": 1,
   "metadata": {},
   "outputs": [],
   "source": [
    "import pandas as pd\n",
    "import numpy as np\n",
    "import seaborn as sb\n",
    "import matplotlib.pyplot as plt\n",
    "\n",
    "import xgboost as xb\n",
    "from xgboost import XGBRegressor\n",
    "\n",
    "from sklearn.model_selection import GridSearchCV\n",
    "from sklearn.model_selection import StratifiedKFold\n",
    "from sklearn.model_selection import train_test_split\n",
    "from sklearn.metrics import mean_squared_error\n",
    "\n",
    "from sklearn.preprocessing import StandardScaler\n",
    "\n",
    "# set random seed to 1 for predictable results\n",
    "np.random.seed(1)"
   ]
  },
  {
   "cell_type": "markdown",
   "metadata": {},
   "source": [
    "# 2. Load & Scale the data"
   ]
  },
  {
   "cell_type": "code",
   "execution_count": 2,
   "metadata": {},
   "outputs": [],
   "source": [
    "data = pd.read_csv('concrete.csv')\n",
    "\n",
    "data_scaler = StandardScaler()\n",
    "data_scaler.fit(data)\n",
    "scaled_data = data_scaler.transform(data)  \n",
    "data = pd.DataFrame(data=scaled_data, columns=data.columns)\n",
    "\n",
    "X = data[['cement','slag','ash','water','superplastic','coarseagg','fineagg','age']]\n",
    "y = data['strength']"
   ]
  },
  {
   "cell_type": "markdown",
   "metadata": {},
   "source": [
    "# 3. Split into training & testing data"
   ]
  },
  {
   "cell_type": "code",
   "execution_count": 3,
   "metadata": {},
   "outputs": [
    {
     "name": "stderr",
     "output_type": "stream",
     "text": [
      "C:\\MachineLearning\\anaconda\\lib\\site-packages\\xgboost\\core.py:587: FutureWarning: Series.base is deprecated and will be removed in a future version\n",
      "  if getattr(data, 'base', None) is not None and \\\n"
     ]
    }
   ],
   "source": [
    "trainX, testX, trainY, testY = train_test_split(X,y)\n",
    "\n",
    "dTrainMatrix = xb.DMatrix(trainX, trainY)\n",
    "dTextMatrix = xb.DMatrix(testX, testY)"
   ]
  },
  {
   "cell_type": "markdown",
   "metadata": {},
   "source": [
    "# Note about experiments:\n",
    "\n",
    "    I have tried using XGBoost and RandomForest to work on this problem. In terms of different runs, a summary is as follows:\n",
    "    \n",
    "    Run 1 -> Baseline model using XGBoost without any model tuning\n",
    "    Run 2 -> Refined model using XGBoost with Hyperparameter tuning using GridSearchCV\n",
    "    \n",
    "    For each of these runs I have looked at most important features\n",
    "    \n",
    "    Run 3 -> Baseline model using RandomForest without any model tuning\n",
    "    Run 4 -> Refine model using RandomForest with Hyperparameter tuning using GridSearchCV\n",
    "    \n",
    "    Summary:\n",
    "    -------------------------------------------\n",
    "    XGBoost      (Without Tuning)  : MSE of 0.1050\n",
    "    XGBoost      (With Tuning)     : MSE of 0.0815\n",
    "    RandomForest (Without Tuning)  : MSE of 0.1127\n",
    "    RandomForest (With Tuning)     : MSE of 0.1148"
   ]
  },
  {
   "cell_type": "markdown",
   "metadata": {},
   "source": [
    "# Run 1 - Baseline model using XGBoost without any model tuning"
   ]
  },
  {
   "cell_type": "code",
   "execution_count": 4,
   "metadata": {},
   "outputs": [
    {
     "name": "stdout",
     "output_type": "stream",
     "text": [
      "MSE for baseline model is : 0.10508835025344296\n",
      "\n",
      " XGBRegressor(base_score=0.5, booster='gbtree', colsample_bylevel=1,\n",
      "             colsample_bytree=1, gamma=0, importance_type='gain',\n",
      "             learning_rate=0.1, max_delta_step=0, max_depth=3,\n",
      "             min_child_weight=1, missing=None, n_estimators=100, n_jobs=1,\n",
      "             nthread=None, objective='reg:linear', random_state=0, reg_alpha=0,\n",
      "             reg_lambda=1, scale_pos_weight=1, seed=None, silent=True,\n",
      "             subsample=1)\n"
     ]
    }
   ],
   "source": [
    "xgboost_baseline_model = XGBRegressor()\n",
    "xgboost_baseline_model.fit(trainX, trainY)\n",
    "predictedY = xgboost_baseline_model.predict(testX)\n",
    "\n",
    "mse = mean_squared_error(testY, predictedY)\n",
    "print ('MSE for baseline model is :',mse)\n",
    "\n",
    "print ('\\n',xgboost_baseline_model)"
   ]
  },
  {
   "cell_type": "markdown",
   "metadata": {},
   "source": [
    "# Run 2 - Hyper Parameter tuning with GridSearchCV\n",
    "    \n",
    "    - GridSearchCV is like a brute force attack where all possible combinations of hyper parameters are evaluared.\n",
    "    - Logic wise it works as follows:\n",
    "        - Create a dictionary of fixed params; those params which would not change during the tuning exercise\n",
    "        - Create a dictionary of variable params; those params which we want to evaluate\n",
    "        - Create GridSearchCV() and pass in the following:\n",
    "            - XGBClassifier or XGBRegressor ; in this we pass the fixed params\n",
    "            - variable params\n",
    "            - cv or cross validation count\n",
    "            - scoring (scoring approach depends on Regression or Classification problem)\n",
    "            \n",
    "     - On this datasetp trying to tune the hyper parameters does not reduce MAE any further, instead it's increased !!!\n",
    "     - Useful link\n",
    "         - See https://scikit-learn.org/stable/modules/model_evaluation.html for scoring options"
   ]
  },
  {
   "cell_type": "code",
   "execution_count": 5,
   "metadata": {},
   "outputs": [],
   "source": [
    "#from sklearn.metrics import SCORERS\n",
    "#sorted(SCORERS.keys())"
   ]
  },
  {
   "cell_type": "code",
   "execution_count": 6,
   "metadata": {},
   "outputs": [
    {
     "name": "stderr",
     "output_type": "stream",
     "text": [
      "C:\\MachineLearning\\anaconda\\lib\\site-packages\\xgboost\\core.py:587: FutureWarning: Series.base is deprecated and will be removed in a future version\n",
      "  if getattr(data, 'base', None) is not None and \\\n"
     ]
    },
    {
     "data": {
      "text/plain": [
       "GridSearchCV(cv=3, error_score='raise-deprecating',\n",
       "             estimator=XGBRegressor(base_score=0.5, booster='gbtree',\n",
       "                                    colsample_bylevel=1, colsample_bytree=1,\n",
       "                                    gamma=0, importance_type='gain',\n",
       "                                    learning_rate=0.1, max_delta_step=0,\n",
       "                                    max_depth=3, min_child_weight=1,\n",
       "                                    missing=None, n_estimators=100, n_jobs=1,\n",
       "                                    nthread=None, objective='reg:linear',\n",
       "                                    random_state=0, reg_alpha=0, reg_lam...\n",
       "                                    scale_pos_weight=1, seed=None, silent=True,\n",
       "                                    subsample=1),\n",
       "             iid='warn', n_jobs=3,\n",
       "             param_grid={'learning_rate': array([0.1, 0.2, 0.3, 0.4, 0.5]),\n",
       "                         'max_depth': array([1, 3, 5, 7, 9]),\n",
       "                         'n_estimators': array([10, 30, 50, 70, 90]),\n",
       "                         'n_fold': array([2, 4, 6, 8]),\n",
       "                         'reg_alpha': array([0. , 0.2, 0.4])},\n",
       "             pre_dispatch='2*n_jobs', refit=True, return_train_score=False,\n",
       "             scoring='neg_mean_squared_error', verbose=0)"
      ]
     },
     "execution_count": 6,
     "metadata": {},
     "output_type": "execute_result"
    }
   ],
   "source": [
    "fixed_params = {\"objective\":\"reg:linear\"}\n",
    "variable_params = {\n",
    "    \"max_depth\":np.arange(1,10,2),\n",
    "    \"learning_rate\":np.arange(0.1,0.6,0.1),\n",
    "    \"n_estimators\":np.arange(10,100,20),\n",
    "    \"reg_alpha\":np.arange(0.0,0.6,0.2),\n",
    "    \"n_fold\":np.arange(2,10,2)\n",
    "}\n",
    "\n",
    "gs_cv_xg = GridSearchCV(XGBRegressor(**fixed_params), variable_params, cv=3, scoring='neg_mean_squared_error', n_jobs=3)\n",
    "gs_cv_xg.fit(trainX, trainY)"
   ]
  },
  {
   "cell_type": "markdown",
   "metadata": {},
   "source": [
    "#### Print the best found parameters, best score and best model definition"
   ]
  },
  {
   "cell_type": "code",
   "execution_count": 7,
   "metadata": {},
   "outputs": [
    {
     "name": "stdout",
     "output_type": "stream",
     "text": [
      "Best parameters are  {'learning_rate': 0.30000000000000004, 'max_depth': 5, 'n_estimators': 90, 'n_fold': 2, 'reg_alpha': 0.4}\n",
      "Best MSE score is  0.08034740276547615\n"
     ]
    }
   ],
   "source": [
    "print ('Best parameters are ', gs_cv_xg.best_params_)\n",
    "print ('Best MSE score is ', np.abs(gs_cv_xg.best_score_))\n",
    "\n",
    "#print ('Evaluated params grid is \\n', gs_cv_xg.param_grid)\n",
    "#print ('\\n\\nBest model definition is \\n', gs_cv_xg.best_estimator_)"
   ]
  },
  {
   "cell_type": "code",
   "execution_count": 8,
   "metadata": {},
   "outputs": [
    {
     "name": "stdout",
     "output_type": "stream",
     "text": [
      "MSE for tuned xgboost model is : 0.08157796576749049\n"
     ]
    }
   ],
   "source": [
    "final_model = XGBRegressor(learning_rate=0.30000000000000004,\n",
    "                          max_depth=5,\n",
    "                          n_estimators=90,\n",
    "                          reg_alpha=0.4)\n",
    "\n",
    "final_model.fit(trainX, trainY)\n",
    "predictedY = final_model.predict(testX)\n",
    "\n",
    "mse = mean_squared_error(testY, predictedY)\n",
    "print ('MSE for tuned xgboost model is :',mse)"
   ]
  },
  {
   "cell_type": "markdown",
   "metadata": {},
   "source": [
    "### XGBoost Model - Feature Importance\n",
    "\n",
    "    - We see that 'age', 'cement' and 'superplastic' are the top three most important features"
   ]
  },
  {
   "cell_type": "code",
   "execution_count": 9,
   "metadata": {},
   "outputs": [
    {
     "data": {
      "text/plain": [
       "<matplotlib.axes._subplots.AxesSubplot at 0x22814f53320>"
      ]
     },
     "execution_count": 9,
     "metadata": {},
     "output_type": "execute_result"
    },
    {
     "data": {
      "image/png": "[encoded data removed]",
      "text/plain": [
       "<Figure size 648x432 with 1 Axes>"
      ]
     },
     "metadata": {
      "needs_background": "light"
     },
     "output_type": "display_data"
    }
   ],
   "source": [
    "feature_imp = final_model.feature_importances_\n",
    "plt.figure(figsize=(9,6))\n",
    "sb.barplot(X.columns, feature_imp, orient='v')"
   ]
  },
  {
   "cell_type": "markdown",
   "metadata": {},
   "source": [
    "# Run 4 -> Baseline model using RandomForest without any model tuning"
   ]
  },
  {
   "cell_type": "code",
   "execution_count": 10,
   "metadata": {},
   "outputs": [
    {
     "name": "stdout",
     "output_type": "stream",
     "text": [
      "MSE of baseline RandomForest model is : 0.11278317888639833\n"
     ]
    },
    {
     "name": "stderr",
     "output_type": "stream",
     "text": [
      "C:\\MachineLearning\\anaconda\\lib\\site-packages\\sklearn\\ensemble\\forest.py:245: FutureWarning: The default value of n_estimators will change from 10 in version 0.20 to 100 in 0.22.\n",
      "  \"10 in version 0.20 to 100 in 0.22.\", FutureWarning)\n"
     ]
    }
   ],
   "source": [
    "from sklearn.ensemble import RandomForestRegressor\n",
    "\n",
    "baseline_rf = RandomForestRegressor()\n",
    "baseline_rf.fit(trainX, trainY)\n",
    "predictedY = baseline_rf.predict(testX)\n",
    "\n",
    "print ('MSE of baseline RandomForest model is :',mean_squared_error(testY, predictedY))"
   ]
  },
  {
   "cell_type": "code",
   "execution_count": 11,
   "metadata": {},
   "outputs": [
    {
     "data": {
      "text/plain": [
       "RandomForestRegressor(bootstrap=True, criterion='mse', max_depth=None,\n",
       "                      max_features='auto', max_leaf_nodes=None,\n",
       "                      min_impurity_decrease=0.0, min_impurity_split=None,\n",
       "                      min_samples_leaf=1, min_samples_split=2,\n",
       "                      min_weight_fraction_leaf=0.0, n_estimators=10,\n",
       "                      n_jobs=None, oob_score=False, random_state=None,\n",
       "                      verbose=0, warm_start=False)"
      ]
     },
     "execution_count": 11,
     "metadata": {},
     "output_type": "execute_result"
    }
   ],
   "source": [
    "baseline_rf"
   ]
  },
  {
   "cell_type": "markdown",
   "metadata": {},
   "source": [
    "# Run 5 -> Refine model using RandomForest with Hyperparameter tuning using GridSearchCV"
   ]
  },
  {
   "cell_type": "code",
   "execution_count": 12,
   "metadata": {},
   "outputs": [
    {
     "data": {
      "text/plain": [
       "GridSearchCV(cv=3, error_score='raise-deprecating',\n",
       "             estimator=RandomForestRegressor(bootstrap=True, criterion='mse',\n",
       "                                             max_depth=None,\n",
       "                                             max_features='auto',\n",
       "                                             max_leaf_nodes=None,\n",
       "                                             min_impurity_decrease=0.0,\n",
       "                                             min_impurity_split=None,\n",
       "                                             min_samples_leaf=1,\n",
       "                                             min_samples_split=2,\n",
       "                                             min_weight_fraction_leaf=0.0,\n",
       "                                             n_estimators='warn', n_jobs=None,\n",
       "                                             oob_score=False, random_state=None,\n",
       "                                             verbose=0, warm_start=False),\n",
       "             iid='warn', n_jobs=3,\n",
       "             param_grid={'max_depth': array([1, 3, 5, 7, 9]),\n",
       "                         'n_estimators': array([10, 20, 30, 40])},\n",
       "             pre_dispatch='2*n_jobs', refit=True, return_train_score=False,\n",
       "             scoring='neg_mean_squared_error', verbose=0)"
      ]
     },
     "execution_count": 12,
     "metadata": {},
     "output_type": "execute_result"
    }
   ],
   "source": [
    "variable_params = {\n",
    "    \"max_depth\":np.arange(1,10,2),\n",
    "    \"n_estimators\":np.arange(10,50,10)\n",
    "}\n",
    "\n",
    "rf_gs_cv = GridSearchCV(RandomForestRegressor(), variable_params, cv=3, scoring='neg_mean_squared_error', n_jobs=3)\n",
    "rf_gs_cv.fit(trainX, trainY)"
   ]
  },
  {
   "cell_type": "code",
   "execution_count": 13,
   "metadata": {},
   "outputs": [
    {
     "name": "stdout",
     "output_type": "stream",
     "text": [
      "Best parameters are  {'max_depth': 9, 'n_estimators': 40}\n",
      "Best MSE score is  0.10897221845843871\n"
     ]
    }
   ],
   "source": [
    "print ('Best parameters are ', rf_gs_cv.best_params_)\n",
    "print ('Best MSE score is ', np.abs(rf_gs_cv.best_score_))\n",
    "\n",
    "#print ('Evaluated params grid is \\n', rf_gs_cv.param_grid)\n",
    "#print ('\\n\\nBest model definition is \\n', rf_gs_cv.best_estimator_)"
   ]
  },
  {
   "cell_type": "code",
   "execution_count": 14,
   "metadata": {},
   "outputs": [
    {
     "name": "stdout",
     "output_type": "stream",
     "text": [
      "MSE of tuned RandomForest model is : 0.11484917310154936\n"
     ]
    }
   ],
   "source": [
    "final_rf = RandomForestRegressor(max_depth=9,n_estimators=20)\n",
    "final_rf.fit(trainX, trainY)\n",
    "predictedY_rf = final_rf.predict(testX)\n",
    "\n",
    "print ('MSE of tuned RandomForest model is :',mean_squared_error(testY, predictedY_rf))"
   ]
  },
  {
   "cell_type": "markdown",
   "metadata": {},
   "source": [
    "### RandomForest Model - Feature Importance\n",
    "    - We see that 'age', 'cement' and 'superplastic' are the top three most important features"
   ]
  },
  {
   "cell_type": "code",
   "execution_count": 15,
   "metadata": {},
   "outputs": [
    {
     "data": {
      "text/plain": [
       "<matplotlib.axes._subplots.AxesSubplot at 0x22814bae208>"
      ]
     },
     "execution_count": 15,
     "metadata": {},
     "output_type": "execute_result"
    },
    {
     "data": {
      "image/png": "[encoded data removed]",
      "text/plain": [
       "<Figure size 648x432 with 1 Axes>"
      ]
     },
     "metadata": {
      "needs_background": "light"
     },
     "output_type": "display_data"
    }
   ],
   "source": [
    "feature_imp_rf = final_rf.feature_importances_\n",
    "plt.figure(figsize=(9,6))\n",
    "sb.barplot(X.columns, feature_imp_rf, orient='v')"
   ]
  },
  {
   "cell_type": "code",
   "execution_count": null,
   "metadata": {},
   "outputs": [],
   "source": []
  }
 ],
 "metadata": {
  "kernelspec": {
   "display_name": "Python 3",
   "language": "python",
   "name": "python3"
  },
  "language_info": {
   "codemirror_mode": {
    "name": "ipython",
    "version": 3
   },
   "file_extension": ".py",
   "mimetype": "text/x-python",
   "name": "python",
   "nbconvert_exporter": "python",
   "pygments_lexer": "ipython3",
   "version": "3.7.3"
  }
 },
 "nbformat": 4,
 "nbformat_minor": 2
}
